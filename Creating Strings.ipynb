{
 "cells": [
  {
   "cell_type": "code",
   "execution_count": 9,
   "id": "57bdc44d",
   "metadata": {},
   "outputs": [
    {
     "name": "stdout",
     "output_type": "stream",
     "text": [
      "Hey John\n",
      "\n",
      "Hey Mick\n",
      "\n",
      "Hey Arjun\n",
      "How are you?\n",
      "\n",
      "When he saw the notebook at the market, \n",
      "he knew his husband would love it.\n",
      "\n",
      "Hello\n"
     ]
    }
   ],
   "source": [
    "# Single quote\n",
    "str1 = 'Hey John'\n",
    "\n",
    "# Double quotes\n",
    "str2 = \"Hey Mick\"\n",
    "\n",
    "# Multi-Line Single Quote\n",
    "str3 = '''Hey Arjun\n",
    "How are you?'''\n",
    "\n",
    "# Multi-Line Double Quote\n",
    "str4 = \"\"\"When he saw the notebook at the market, \n",
    "he knew his husband would love it.\"\"\"\n",
    "\n",
    "# Using str()\n",
    "str5 = str(\"Hello\")\n",
    "\n",
    "\n",
    "print(str1)\n",
    "print()       # printing empty line\n",
    "print(str2)\n",
    "print()\n",
    "print(str3)\n",
    "print()\n",
    "print(str4)\n",
    "print()\n",
    "print(str5)"
   ]
  },
  {
   "cell_type": "code",
   "execution_count": null,
   "id": "e3f36162",
   "metadata": {},
   "outputs": [],
   "source": []
  }
 ],
 "metadata": {
  "kernelspec": {
   "display_name": "Python 3 (ipykernel)",
   "language": "python",
   "name": "python3"
  },
  "language_info": {
   "codemirror_mode": {
    "name": "ipython",
    "version": 3
   },
   "file_extension": ".py",
   "mimetype": "text/x-python",
   "name": "python",
   "nbconvert_exporter": "python",
   "pygments_lexer": "ipython3",
   "version": "3.8.10"
  }
 },
 "nbformat": 4,
 "nbformat_minor": 5
}
